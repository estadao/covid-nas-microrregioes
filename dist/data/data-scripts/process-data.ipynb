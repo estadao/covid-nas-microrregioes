{
 "cells": [
  {
   "cell_type": "markdown",
   "metadata": {},
   "source": [
    "# Covid nas cidades\n",
    "Esse script prepara os dados brutos para a visualização de dados."
   ]
  },
  {
   "cell_type": "markdown",
   "metadata": {},
   "source": [
    "## Importação de pacotes"
   ]
  },
  {
   "cell_type": "code",
   "execution_count": 81,
   "metadata": {},
   "outputs": [],
   "source": [
    "import json, unidecode\n",
    "import math\n",
    "import numpy as np\n",
    "import pandas as pd"
   ]
  },
  {
   "cell_type": "markdown",
   "metadata": {},
   "source": [
    "## Acessa os dados\n",
    "\n",
    "### Fontes: \n",
    "\n",
    "- Registro de casos: [Brasil.IO](https://github.com/wcota/covid19br/issues/17#issuecomment-609113071)\n",
    "\n",
    "- Divisão do território: [IBGE](https://servicodados.ibge.gov.br/api/docs/localidades#api-Municipios-municipiosGet), compilada em CSV por Cristiano Martins, voluntário do Brasil.IO"
   ]
  },
  {
   "cell_type": "code",
   "execution_count": 82,
   "metadata": {},
   "outputs": [],
   "source": [
    "df = pd.read_csv(\"../cases/caso-full.csv\", dtype={\"city_ibge_code\":str })"
   ]
  },
  {
   "cell_type": "code",
   "execution_count": 83,
   "metadata": {},
   "outputs": [],
   "source": [
    "geo = pd.read_csv(\"../ibge/municipios.csv\", dtype=\n",
    "                  {\n",
    "                   \"cod_municipio\": str, \n",
    "                   \"cod_meso\": str, \n",
    "                   \"cod_micro\": str, \n",
    "                   \"cod_uf\": str\n",
    "                  })"
   ]
  },
  {
   "cell_type": "code",
   "execution_count": 84,
   "metadata": {},
   "outputs": [
    {
     "data": {
      "text/html": [
       "<div>\n",
       "<style scoped>\n",
       "    .dataframe tbody tr th:only-of-type {\n",
       "        vertical-align: middle;\n",
       "    }\n",
       "\n",
       "    .dataframe tbody tr th {\n",
       "        vertical-align: top;\n",
       "    }\n",
       "\n",
       "    .dataframe thead th {\n",
       "        text-align: right;\n",
       "    }\n",
       "</style>\n",
       "<table border=\"1\" class=\"dataframe\">\n",
       "  <thead>\n",
       "    <tr style=\"text-align: right;\">\n",
       "      <th></th>\n",
       "      <th>cod_municipio</th>\n",
       "      <th>nome_município</th>\n",
       "      <th>cod_uf</th>\n",
       "      <th>nome_uf</th>\n",
       "      <th>cod_meso</th>\n",
       "      <th>nome_meso</th>\n",
       "      <th>cod_micro</th>\n",
       "      <th>nome_micro</th>\n",
       "      <th>latitude</th>\n",
       "      <th>longitude</th>\n",
       "    </tr>\n",
       "  </thead>\n",
       "  <tbody>\n",
       "    <tr>\n",
       "      <th>0</th>\n",
       "      <td>5200050</td>\n",
       "      <td>Abadia de Goiás</td>\n",
       "      <td>52</td>\n",
       "      <td>Goiás</td>\n",
       "      <td>03</td>\n",
       "      <td>Centro Goiano</td>\n",
       "      <td>010</td>\n",
       "      <td>Goiânia</td>\n",
       "      <td>-167573.0</td>\n",
       "      <td>-494412.0</td>\n",
       "    </tr>\n",
       "    <tr>\n",
       "      <th>1</th>\n",
       "      <td>3100104</td>\n",
       "      <td>Abadia dos Dourados</td>\n",
       "      <td>31</td>\n",
       "      <td>Minas Gerais</td>\n",
       "      <td>05</td>\n",
       "      <td>Triângulo Mineiro/Alto Paranaíba</td>\n",
       "      <td>019</td>\n",
       "      <td>Patrocínio</td>\n",
       "      <td>-184831.0</td>\n",
       "      <td>-473916.0</td>\n",
       "    </tr>\n",
       "    <tr>\n",
       "      <th>2</th>\n",
       "      <td>5200100</td>\n",
       "      <td>Abadiânia</td>\n",
       "      <td>52</td>\n",
       "      <td>Goiás</td>\n",
       "      <td>04</td>\n",
       "      <td>Leste Goiano</td>\n",
       "      <td>012</td>\n",
       "      <td>Entorno de Brasília</td>\n",
       "      <td>-16197.0</td>\n",
       "      <td>-487057.0</td>\n",
       "    </tr>\n",
       "    <tr>\n",
       "      <th>3</th>\n",
       "      <td>3100203</td>\n",
       "      <td>Abaeté</td>\n",
       "      <td>31</td>\n",
       "      <td>Minas Gerais</td>\n",
       "      <td>06</td>\n",
       "      <td>Central Mineira</td>\n",
       "      <td>024</td>\n",
       "      <td>Três Marias</td>\n",
       "      <td>-191551.0</td>\n",
       "      <td>-454444.0</td>\n",
       "    </tr>\n",
       "    <tr>\n",
       "      <th>4</th>\n",
       "      <td>1500107</td>\n",
       "      <td>Abaetetuba</td>\n",
       "      <td>15</td>\n",
       "      <td>Pará</td>\n",
       "      <td>04</td>\n",
       "      <td>Nordeste Paraense</td>\n",
       "      <td>011</td>\n",
       "      <td>Cametá</td>\n",
       "      <td>-172183.0</td>\n",
       "      <td>-488788.0</td>\n",
       "    </tr>\n",
       "  </tbody>\n",
       "</table>\n",
       "</div>"
      ],
      "text/plain": [
       "  cod_municipio       nome_município cod_uf       nome_uf cod_meso  \\\n",
       "0       5200050      Abadia de Goiás     52         Goiás       03   \n",
       "1       3100104  Abadia dos Dourados     31  Minas Gerais       05   \n",
       "2       5200100            Abadiânia     52         Goiás       04   \n",
       "3       3100203               Abaeté     31  Minas Gerais       06   \n",
       "4       1500107           Abaetetuba     15          Pará       04   \n",
       "\n",
       "                          nome_meso cod_micro           nome_micro  latitude  \\\n",
       "0                     Centro Goiano       010              Goiânia -167573.0   \n",
       "1  Triângulo Mineiro/Alto Paranaíba       019           Patrocínio -184831.0   \n",
       "2                      Leste Goiano       012  Entorno de Brasília  -16197.0   \n",
       "3                   Central Mineira       024          Três Marias -191551.0   \n",
       "4                 Nordeste Paraense       011               Cametá -172183.0   \n",
       "\n",
       "   longitude  \n",
       "0  -494412.0  \n",
       "1  -473916.0  \n",
       "2  -487057.0  \n",
       "3  -454444.0  \n",
       "4  -488788.0  "
      ]
     },
     "execution_count": 84,
     "metadata": {},
     "output_type": "execute_result"
    }
   ],
   "source": [
    "geo.head()"
   ]
  },
  {
   "cell_type": "markdown",
   "metadata": {},
   "source": [
    "## Tratamento inicial"
   ]
  },
  {
   "cell_type": "markdown",
   "metadata": {},
   "source": [
    "Mantém apenas os pontos de dados com mais de **n** casos - ou seja, as cidades só vão aparecer no gráfico quando tiverem mais de **n** registros."
   ]
  },
  {
   "cell_type": "code",
   "execution_count": 6,
   "metadata": {},
   "outputs": [],
   "source": [
    "n = 1"
   ]
  },
  {
   "cell_type": "code",
   "execution_count": 7,
   "metadata": {},
   "outputs": [],
   "source": [
    "df = df [ df.last_available_confirmed >= n ]"
   ]
  },
  {
   "cell_type": "markdown",
   "metadata": {},
   "source": [
    "Extrai o código das UFs, microrregiões e mesorregiões e UFs com um merge."
   ]
  },
  {
   "cell_type": "code",
   "execution_count": 8,
   "metadata": {},
   "outputs": [],
   "source": [
    "df = df.merge(geo, left_on=\"city_ibge_code\", right_on=\"cod_municipio\")"
   ]
  },
  {
   "cell_type": "markdown",
   "metadata": {},
   "source": [
    "Remove colunas desnecessárias."
   ]
  },
  {
   "cell_type": "code",
   "execution_count": 9,
   "metadata": {},
   "outputs": [],
   "source": [
    "df = df.drop(['cod_municipio', 'nome_município', 'nome_uf', 'latitude', 'longitude', \n",
    "              'last_available_death_rate', 'last_available_confirmed_per_100k_inhabitants'], axis=1)"
   ]
  },
  {
   "cell_type": "markdown",
   "metadata": {},
   "source": [
    "Cria o código único de microrregião e mesorregião, combinando os indetificadores."
   ]
  },
  {
   "cell_type": "code",
   "execution_count": 10,
   "metadata": {},
   "outputs": [],
   "source": [
    "df.cod_meso = df.cod_uf + df.cod_meso\n",
    "df.cod_micro = df.cod_meso + df.cod_micro"
   ]
  },
  {
   "cell_type": "markdown",
   "metadata": {},
   "source": [
    "Agrupa os dados por microrregião e data. \n",
    "\n",
    "É importante notar que, quando ao menos um campo booleano for verdadeiro, a soma vai retornar um valor maior que zero. Isso vai criar redundância no campo 'is_last', que será corrigida futuramente. Entretanto, vai ser útil pra saber as datas em que não houve alteração em nenhum dos boletins das cidades da microrregião. Nesses casos, e somente nestes, is_fake será True."
   ]
  },
  {
   "cell_type": "code",
   "execution_count": 11,
   "metadata": {},
   "outputs": [],
   "source": [
    "df = df.groupby([\"cod_micro\", \"cod_meso\", \"cod_uf\", \"state\", \"nome_micro\", \"nome_meso\", \"date\"]).sum().reset_index()"
   ]
  },
  {
   "cell_type": "markdown",
   "metadata": {},
   "source": [
    "Converte os campos novamente para booleano."
   ]
  },
  {
   "cell_type": "code",
   "execution_count": 12,
   "metadata": {},
   "outputs": [],
   "source": [
    "def back_to_bool(row):\n",
    "    \n",
    "    if row.is_last < 1:\n",
    "        is_last = False\n",
    "\n",
    "    else:\n",
    "        is_last = True\n",
    "        \n",
    "    if row.is_repeated < 1:\n",
    "        is_fake = False\n",
    "        \n",
    "    else:\n",
    "        is_fake = True\n",
    "            \n",
    "    return pd.Series({\"is_last\": is_last, \"is_fake\": is_fake})"
   ]
  },
  {
   "cell_type": "code",
   "execution_count": 13,
   "metadata": {},
   "outputs": [],
   "source": [
    "df[[\"is_last\", \"is_fake\"]] = df.apply(back_to_bool, axis=1)"
   ]
  },
  {
   "cell_type": "markdown",
   "metadata": {},
   "source": [
    "Como a referência de data são as cidades e não as microrregiões, acabamos com mais de uma data 'is_last'. Vamos manter apenas a última delas."
   ]
  },
  {
   "cell_type": "code",
   "execution_count": 14,
   "metadata": {},
   "outputs": [],
   "source": [
    "# Reordena por cidade e data\n",
    "df = df.sort_values(by=[\"cod_micro\", \"date\"])"
   ]
  },
  {
   "cell_type": "code",
   "execution_count": 15,
   "metadata": {},
   "outputs": [],
   "source": [
    "def fix_is_last(df):\n",
    "    \n",
    "    '''\n",
    "    TO DO: otimizar função para melhorar tempo de execução.\n",
    "    Uma saída pode ser selecionar apenas as linhas marcadas\n",
    "    como is_last, mas há inconsistências na base (como uma data\n",
    "    posterior a última is_last marcada como False) que impedem\n",
    "    essa saída. Por enquanto, consigo viver com 30s de execução.\n",
    "    '''\n",
    "    \n",
    "    # Para cada microrregião...\n",
    "    for micro in df.cod_micro.unique():\n",
    "        \n",
    "        # Selecione as entradas marcadas como is_last\n",
    "        temp = df[ (df.cod_micro == micro)]\n",
    "                \n",
    "        # Pegue a data mais recente\n",
    "        last_date = temp.date.max()\n",
    "                \n",
    "        # Itere pelas linhas\n",
    "        for index, row in temp.iterrows():\n",
    "            \n",
    "            # Verifique se é de fato a última data. Se for, retorne True. Se não, retorne False\n",
    "            temp.loc[index] = True if row.date == last_date else False\n",
    "        \n",
    "        # Substitua no df prinicpal usando o índice\n",
    "        df.loc[temp.index, 'is_last'] = temp.is_last \n",
    "    \n",
    "    # Retorne o df completo\n",
    "    return df"
   ]
  },
  {
   "cell_type": "code",
   "execution_count": 16,
   "metadata": {
    "scrolled": false
   },
   "outputs": [
    {
     "name": "stderr",
     "output_type": "stream",
     "text": [
      "/home/rodrigo/anaconda3/envs/coronavirus/lib/python3.8/site-packages/pandas/core/indexing.py:966: SettingWithCopyWarning: \n",
      "A value is trying to be set on a copy of a slice from a DataFrame.\n",
      "Try using .loc[row_indexer,col_indexer] = value instead\n",
      "\n",
      "See the caveats in the documentation: https://pandas.pydata.org/pandas-docs/stable/user_guide/indexing.html#returning-a-view-versus-a-copy\n",
      "  self.obj[item] = s\n"
     ]
    },
    {
     "name": "stdout",
     "output_type": "stream",
     "text": [
      "CPU times: user 14.9 s, sys: 4.28 ms, total: 14.9 s\n",
      "Wall time: 14.8 s\n"
     ]
    }
   ],
   "source": [
    "%%time\n",
    "df = fix_is_last(df)"
   ]
  },
  {
   "cell_type": "markdown",
   "metadata": {},
   "source": [
    "Recalcula as taxas de casos pro habitante e mortalidade"
   ]
  },
  {
   "cell_type": "code",
   "execution_count": 17,
   "metadata": {},
   "outputs": [],
   "source": [
    "df[\"confirmed_per_100k\"] = round(df.last_available_confirmed / df.estimated_population_2019 * 100000, 3)"
   ]
  },
  {
   "cell_type": "code",
   "execution_count": 18,
   "metadata": {},
   "outputs": [],
   "source": [
    "df[\"cfr\"] = df.last_available_deaths / df.last_available_confirmed"
   ]
  },
  {
   "cell_type": "markdown",
   "metadata": {},
   "source": [
    "Calcula novos casos e mortes por dia em uma rolling average de 7 dias para cada cidade"
   ]
  },
  {
   "cell_type": "code",
   "execution_count": 19,
   "metadata": {},
   "outputs": [
    {
     "name": "stderr",
     "output_type": "stream",
     "text": [
      "<timed exec>:5: SettingWithCopyWarning: \n",
      "A value is trying to be set on a copy of a slice from a DataFrame.\n",
      "Try using .loc[row_indexer,col_indexer] = value instead\n",
      "\n",
      "See the caveats in the documentation: https://pandas.pydata.org/pandas-docs/stable/user_guide/indexing.html#returning-a-view-versus-a-copy\n",
      "<timed exec>:6: SettingWithCopyWarning: \n",
      "A value is trying to be set on a copy of a slice from a DataFrame.\n",
      "Try using .loc[row_indexer,col_indexer] = value instead\n",
      "\n",
      "See the caveats in the documentation: https://pandas.pydata.org/pandas-docs/stable/user_guide/indexing.html#returning-a-view-versus-a-copy\n"
     ]
    },
    {
     "name": "stdout",
     "output_type": "stream",
     "text": [
      "CPU times: user 1.06 s, sys: 15 µs, total: 1.06 s\n",
      "Wall time: 1.05 s\n"
     ]
    }
   ],
   "source": [
    "%%time\n",
    "for cod_micro in df.cod_micro.unique():\n",
    "     \n",
    "        temp = df[df.cod_micro == cod_micro]\n",
    "        \n",
    "        temp[\"new_confirmed_rolling\"] = temp.new_confirmed.rolling(5).mean()\n",
    "        temp[\"new_deaths_rolling\"] = temp.new_deaths.rolling(5).mean()\n",
    "                  \n",
    "        df.loc[temp.index, \"new_confirmed_rolling\"] = temp.new_confirmed_rolling\n",
    "        df.loc[temp.index, \"new_deaths_rolling\"] = temp.new_deaths_rolling\n",
    "\n"
   ]
  },
  {
   "cell_type": "markdown",
   "metadata": {},
   "source": [
    "Calcula crescimento percentual de casos e mortes dia a dia e depois faz a rolling average"
   ]
  },
  {
   "cell_type": "code",
   "execution_count": 20,
   "metadata": {},
   "outputs": [],
   "source": [
    "df[\"confirmed_growth_rate\"] = df.new_confirmed / (df.last_available_confirmed - df.new_confirmed)\n",
    "df[\"deaths_growth_rate\"] = df.new_deaths / (df.last_available_deaths - df.new_deaths)"
   ]
  },
  {
   "cell_type": "markdown",
   "metadata": {},
   "source": [
    "Nessas taxas, o primeiro caso registrado vira um crescimento infinito (divisão por zero). Nesses casos, vamos representar o crescimento como 0% (momento de saída)"
   ]
  },
  {
   "cell_type": "code",
   "execution_count": 21,
   "metadata": {},
   "outputs": [],
   "source": [
    "def no_inf(row):\n",
    "    \n",
    "    if np.isinf(row.confirmed_growth_rate):\n",
    "        confirmed_growth_rate = 0\n",
    "        \n",
    "    else:\n",
    "        confirmed_growth_rate = row.confirmed_growth_rate\n",
    "        \n",
    "    if np.isinf(row.deaths_growth_rate):\n",
    "        deaths_growth_rate = 0\n",
    "        \n",
    "    else:\n",
    "        deaths_growth_rate = row.deaths_growth_rate\n",
    "        \n",
    "    return pd.Series({\n",
    "        \"confirmed_growth_rate\": confirmed_growth_rate,\n",
    "        \"deaths_growth_rate\": deaths_growth_rate\n",
    "    })"
   ]
  },
  {
   "cell_type": "code",
   "execution_count": 22,
   "metadata": {},
   "outputs": [
    {
     "name": "stdout",
     "output_type": "stream",
     "text": [
      "CPU times: user 1.95 s, sys: 4 ms, total: 1.95 s\n",
      "Wall time: 1.95 s\n"
     ]
    }
   ],
   "source": [
    "%%time\n",
    "df[[\"confirmed_growth_rate\", \"deaths_growth_rate\"]] = df.apply(no_inf, axis=1)"
   ]
  },
  {
   "cell_type": "markdown",
   "metadata": {},
   "source": [
    "Calcula uma média rolante"
   ]
  },
  {
   "cell_type": "code",
   "execution_count": 23,
   "metadata": {},
   "outputs": [
    {
     "name": "stderr",
     "output_type": "stream",
     "text": [
      "<timed exec>:5: SettingWithCopyWarning: \n",
      "A value is trying to be set on a copy of a slice from a DataFrame.\n",
      "Try using .loc[row_indexer,col_indexer] = value instead\n",
      "\n",
      "See the caveats in the documentation: https://pandas.pydata.org/pandas-docs/stable/user_guide/indexing.html#returning-a-view-versus-a-copy\n",
      "<timed exec>:6: SettingWithCopyWarning: \n",
      "A value is trying to be set on a copy of a slice from a DataFrame.\n",
      "Try using .loc[row_indexer,col_indexer] = value instead\n",
      "\n",
      "See the caveats in the documentation: https://pandas.pydata.org/pandas-docs/stable/user_guide/indexing.html#returning-a-view-versus-a-copy\n"
     ]
    },
    {
     "name": "stdout",
     "output_type": "stream",
     "text": [
      "CPU times: user 1.05 s, sys: 29 µs, total: 1.05 s\n",
      "Wall time: 1.05 s\n"
     ]
    }
   ],
   "source": [
    "%%time\n",
    "for cod_micro in df.cod_micro.unique():\n",
    "     \n",
    "        temp = df[df.cod_micro == cod_micro]\n",
    "        \n",
    "        temp[\"confirmed_growth_rate_rolling\"] = temp.confirmed_growth_rate.rolling(5).mean()\n",
    "        temp[\"deaths_growth_rate_rolling\"] = temp.deaths_growth_rate.rolling(5).mean()\n",
    "                  \n",
    "        df.loc[temp.index, \"confirmed_growth_rate_rolling\"] = temp.confirmed_growth_rate_rolling\n",
    "        df.loc[temp.index, \"deaths_growth_rate_rolling\"] = temp.deaths_growth_rate_rolling\n",
    "\n"
   ]
  },
  {
   "cell_type": "markdown",
   "metadata": {},
   "source": [
    "Arredonda casas decimais"
   ]
  },
  {
   "cell_type": "code",
   "execution_count": 24,
   "metadata": {},
   "outputs": [],
   "source": [
    "df = df.round(3)"
   ]
  },
  {
   "cell_type": "code",
   "execution_count": 25,
   "metadata": {},
   "outputs": [],
   "source": [
    "to_inspect = [\n",
    "    \"date\",\n",
    "    \"last_available_confirmed\",\n",
    "    \"new_confirmed\",\n",
    "    \"new_confirmed_rolling\",\n",
    "    \"confirmed_growth_rate\",\n",
    "    \"confirmed_growth_rate_rolling\", \n",
    "    \"last_available_deaths\",\n",
    "    \"new_deaths\",\n",
    "    \"new_deaths_rolling\", \n",
    "    \"deaths_growth_rate\", \n",
    "    \"deaths_growth_rate_rolling\",\n",
    "    \n",
    "\n",
    "]"
   ]
  },
  {
   "cell_type": "markdown",
   "metadata": {},
   "source": [
    "Corrige manualmente erro pontual na região de Fortaleza"
   ]
  },
  {
   "cell_type": "code",
   "execution_count": 26,
   "metadata": {},
   "outputs": [],
   "source": [
    "df.loc[563, \"new_deaths\"] = 0\n",
    "df.loc[563, \"last_available_deaths\"] = df.loc[562, \"last_available_deaths\"]"
   ]
  },
  {
   "cell_type": "markdown",
   "metadata": {},
   "source": [
    "Para cada região, calcula o total de dias passados desde o primeiro contágio"
   ]
  },
  {
   "cell_type": "code",
   "execution_count": 27,
   "metadata": {},
   "outputs": [
    {
     "name": "stderr",
     "output_type": "stream",
     "text": [
      "/home/rodrigo/anaconda3/envs/coronavirus/lib/python3.8/site-packages/pandas/core/indexing.py:845: SettingWithCopyWarning: \n",
      "A value is trying to be set on a copy of a slice from a DataFrame.\n",
      "Try using .loc[row_indexer,col_indexer] = value instead\n",
      "\n",
      "See the caveats in the documentation: https://pandas.pydata.org/pandas-docs/stable/user_guide/indexing.html#returning-a-view-versus-a-copy\n",
      "  self.obj[key] = _infer_fill_value(value)\n",
      "/home/rodrigo/anaconda3/envs/coronavirus/lib/python3.8/site-packages/pandas/core/generic.py:5303: SettingWithCopyWarning: \n",
      "A value is trying to be set on a copy of a slice from a DataFrame.\n",
      "Try using .loc[row_indexer,col_indexer] = value instead\n",
      "\n",
      "See the caveats in the documentation: https://pandas.pydata.org/pandas-docs/stable/user_guide/indexing.html#returning-a-view-versus-a-copy\n",
      "  self[name] = value\n"
     ]
    }
   ],
   "source": [
    "for cod_micro in df.cod_micro.unique():\n",
    "\n",
    "    temp = df[df.cod_micro == cod_micro]\n",
    "    \n",
    "    temp.days_since_outbreak = 0\n",
    "    \n",
    "    count = 0\n",
    "    for index, row in temp.iterrows():\n",
    "        \n",
    "        temp.loc[index, \"days_since_outbreak\"] = count\n",
    "        count += 1\n",
    "        \n",
    "    df.loc[temp.index, \"days_since_outbreak\"] = temp.days_since_outbreak"
   ]
  },
  {
   "cell_type": "markdown",
   "metadata": {},
   "source": [
    "Recorta as microrregiões mais populosas"
   ]
  },
  {
   "cell_type": "code",
   "execution_count": 28,
   "metadata": {},
   "outputs": [],
   "source": [
    "over_500k = df[df.estimated_population_2019 > 500000]"
   ]
  },
  {
   "cell_type": "markdown",
   "metadata": {},
   "source": [
    "Salva para CSV"
   ]
  },
  {
   "cell_type": "code",
   "execution_count": 29,
   "metadata": {},
   "outputs": [],
   "source": [
    "df.to_csv(\"../processed/microregions.csv\", index = False)"
   ]
  },
  {
   "cell_type": "code",
   "execution_count": 30,
   "metadata": {},
   "outputs": [],
   "source": [
    "over_500k.to_csv(\"../processed/microregions_over_500k.csv\", index = False)"
   ]
  },
  {
   "cell_type": "markdown",
   "metadata": {},
   "source": [
    "## Prepara arquivo JSON com chave de busca"
   ]
  },
  {
   "cell_type": "code",
   "execution_count": 31,
   "metadata": {},
   "outputs": [],
   "source": [
    "geo.cod_meso = geo.cod_uf + geo.cod_meso\n",
    "geo.cod_micro = geo.cod_meso + geo.cod_micro"
   ]
  },
  {
   "cell_type": "code",
   "execution_count": 32,
   "metadata": {},
   "outputs": [
    {
     "data": {
      "text/html": [
       "<div>\n",
       "<style scoped>\n",
       "    .dataframe tbody tr th:only-of-type {\n",
       "        vertical-align: middle;\n",
       "    }\n",
       "\n",
       "    .dataframe tbody tr th {\n",
       "        vertical-align: top;\n",
       "    }\n",
       "\n",
       "    .dataframe thead th {\n",
       "        text-align: right;\n",
       "    }\n",
       "</style>\n",
       "<table border=\"1\" class=\"dataframe\">\n",
       "  <thead>\n",
       "    <tr style=\"text-align: right;\">\n",
       "      <th></th>\n",
       "      <th>cod_municipio</th>\n",
       "      <th>nome_município</th>\n",
       "      <th>cod_uf</th>\n",
       "      <th>nome_uf</th>\n",
       "      <th>cod_meso</th>\n",
       "      <th>nome_meso</th>\n",
       "      <th>cod_micro</th>\n",
       "      <th>nome_micro</th>\n",
       "      <th>latitude</th>\n",
       "      <th>longitude</th>\n",
       "    </tr>\n",
       "  </thead>\n",
       "  <tbody>\n",
       "    <tr>\n",
       "      <th>0</th>\n",
       "      <td>5200050</td>\n",
       "      <td>Abadia de Goiás</td>\n",
       "      <td>52</td>\n",
       "      <td>Goiás</td>\n",
       "      <td>5203</td>\n",
       "      <td>Centro Goiano</td>\n",
       "      <td>5203010</td>\n",
       "      <td>Goiânia</td>\n",
       "      <td>-167573.0</td>\n",
       "      <td>-494412.0</td>\n",
       "    </tr>\n",
       "    <tr>\n",
       "      <th>1</th>\n",
       "      <td>3100104</td>\n",
       "      <td>Abadia dos Dourados</td>\n",
       "      <td>31</td>\n",
       "      <td>Minas Gerais</td>\n",
       "      <td>3105</td>\n",
       "      <td>Triângulo Mineiro/Alto Paranaíba</td>\n",
       "      <td>3105019</td>\n",
       "      <td>Patrocínio</td>\n",
       "      <td>-184831.0</td>\n",
       "      <td>-473916.0</td>\n",
       "    </tr>\n",
       "    <tr>\n",
       "      <th>2</th>\n",
       "      <td>5200100</td>\n",
       "      <td>Abadiânia</td>\n",
       "      <td>52</td>\n",
       "      <td>Goiás</td>\n",
       "      <td>5204</td>\n",
       "      <td>Leste Goiano</td>\n",
       "      <td>5204012</td>\n",
       "      <td>Entorno de Brasília</td>\n",
       "      <td>-16197.0</td>\n",
       "      <td>-487057.0</td>\n",
       "    </tr>\n",
       "    <tr>\n",
       "      <th>3</th>\n",
       "      <td>3100203</td>\n",
       "      <td>Abaeté</td>\n",
       "      <td>31</td>\n",
       "      <td>Minas Gerais</td>\n",
       "      <td>3106</td>\n",
       "      <td>Central Mineira</td>\n",
       "      <td>3106024</td>\n",
       "      <td>Três Marias</td>\n",
       "      <td>-191551.0</td>\n",
       "      <td>-454444.0</td>\n",
       "    </tr>\n",
       "    <tr>\n",
       "      <th>4</th>\n",
       "      <td>1500107</td>\n",
       "      <td>Abaetetuba</td>\n",
       "      <td>15</td>\n",
       "      <td>Pará</td>\n",
       "      <td>1504</td>\n",
       "      <td>Nordeste Paraense</td>\n",
       "      <td>1504011</td>\n",
       "      <td>Cametá</td>\n",
       "      <td>-172183.0</td>\n",
       "      <td>-488788.0</td>\n",
       "    </tr>\n",
       "  </tbody>\n",
       "</table>\n",
       "</div>"
      ],
      "text/plain": [
       "  cod_municipio       nome_município cod_uf       nome_uf cod_meso  \\\n",
       "0       5200050      Abadia de Goiás     52         Goiás     5203   \n",
       "1       3100104  Abadia dos Dourados     31  Minas Gerais     3105   \n",
       "2       5200100            Abadiânia     52         Goiás     5204   \n",
       "3       3100203               Abaeté     31  Minas Gerais     3106   \n",
       "4       1500107           Abaetetuba     15          Pará     1504   \n",
       "\n",
       "                          nome_meso cod_micro           nome_micro  latitude  \\\n",
       "0                     Centro Goiano   5203010              Goiânia -167573.0   \n",
       "1  Triângulo Mineiro/Alto Paranaíba   3105019           Patrocínio -184831.0   \n",
       "2                      Leste Goiano   5204012  Entorno de Brasília  -16197.0   \n",
       "3                   Central Mineira   3106024          Três Marias -191551.0   \n",
       "4                 Nordeste Paraense   1504011               Cametá -172183.0   \n",
       "\n",
       "   longitude  \n",
       "0  -494412.0  \n",
       "1  -473916.0  \n",
       "2  -487057.0  \n",
       "3  -454444.0  \n",
       "4  -488788.0  "
      ]
     },
     "execution_count": 32,
     "metadata": {},
     "output_type": "execute_result"
    }
   ],
   "source": [
    "geo.head()"
   ]
  },
  {
   "cell_type": "code",
   "execution_count": 33,
   "metadata": {},
   "outputs": [],
   "source": [
    "data = [ ]\n",
    "\n",
    "for region_id in df.cod_micro.unique():\n",
    "    \n",
    "    cities_within = geo [ geo.cod_micro == region_id].nome_município.unique()\n",
    "    cities_within = sorted(cities_within)\n",
    "    cities_within = \", \".join(cities_within)\n",
    "                            \n",
    "    # For better searching on the JS\n",
    "    cities_within_unidecoded = unidecode.unidecode(cities_within)\n",
    "\n",
    "    region_name = geo [ geo.cod_micro == region_id ].nome_micro.unique()[0]\n",
    "    state = df [ df.cod_micro == region_id ].state.unique()[0]\n",
    "    \n",
    "    obj = {\n",
    "        \"regionName\": f\"{region_name} ({state})\",\n",
    "        \"citiesWithin\": cities_within,\n",
    "        \"citiesWithinUnidecoded\": cities_within_unidecoded,\n",
    "        \"regionId\": region_id\n",
    "    }\n",
    "    \n",
    "    data.append(obj)"
   ]
  },
  {
   "cell_type": "code",
   "execution_count": 34,
   "metadata": {},
   "outputs": [],
   "source": [
    "with open(\"../processed/search-keys.json\",\n",
    "          \"w+\", \n",
    "          encoding=\"utf-8\") as file:\n",
    "    json.dump(data, file, ensure_ascii=False, indent=4)"
   ]
  }
 ],
 "metadata": {
  "kernelspec": {
   "display_name": "Python 3",
   "language": "python",
   "name": "python3"
  },
  "language_info": {
   "codemirror_mode": {
    "name": "ipython",
    "version": 3
   },
   "file_extension": ".py",
   "mimetype": "text/x-python",
   "name": "python",
   "nbconvert_exporter": "python",
   "pygments_lexer": "ipython3",
   "version": "3.8.1"
  }
 },
 "nbformat": 4,
 "nbformat_minor": 4
}
